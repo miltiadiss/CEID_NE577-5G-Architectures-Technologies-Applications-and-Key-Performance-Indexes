{
  "nbformat": 4,
  "nbformat_minor": 0,
  "metadata": {
    "colab": {
      "provenance": [],
      "include_colab_link": true
    },
    "kernelspec": {
      "name": "python3",
      "display_name": "Python 3"
    },
    "language_info": {
      "name": "python"
    }
  },
  "cells": [
    {
      "cell_type": "markdown",
      "metadata": {
        "id": "view-in-github",
        "colab_type": "text"
      },
      "source": [
        "<a href=\"https://colab.research.google.com/github/miltiadiss/CEID_NE577-5G-Architectures-Technologies-Applications-and-Key-Performance-Indicators/blob/main/Code/XGBoost_Regressor_with_XAI.ipynb\" target=\"_parent\"><img src=\"https://colab.research.google.com/assets/colab-badge.svg\" alt=\"Open In Colab\"/></a>"
      ]
    },
    {
      "cell_type": "code",
      "execution_count": null,
      "metadata": {
        "colab": {
          "base_uri": "https://localhost:8080/"
        },
        "id": "bEm33dW9XG2l",
        "outputId": "8e3d608c-5e0f-45ee-eba2-3a40fe6cb1c4"
      },
      "outputs": [
        {
          "metadata": {
            "tags": null
          },
          "name": "stdout",
          "output_type": "stream",
          "text": [
            "Testing with 3 lags...\n",
            "Fitting 5 folds for each of 27 candidates, totalling 135 fits\n"
          ]
        },
        {
          "metadata": {
            "tags": null
          },
          "name": "stderr",
          "output_type": "stream",
          "text": [
            "/usr/local/lib/python3.11/dist-packages/joblib/externals/loky/process_executor.py:752: UserWarning: A worker stopped while some jobs were given to the executor. This can be caused by a too short worker timeout or by a memory leak.\n",
            "  warnings.warn(\n"
          ]
        },
        {
          "metadata": {
            "tags": null
          },
          "name": "stdout",
          "output_type": "stream",
          "text": [
            "Best parameters for 3 lags: {'learning_rate': 0.1, 'max_depth': 9, 'n_estimators': 400}\n",
            "Testing with 5 lags...\n",
            "Fitting 5 folds for each of 27 candidates, totalling 135 fits\n"
          ]
        },
        {
          "metadata": {
            "tags": null
          },
          "name": "stderr",
          "output_type": "stream",
          "text": [
            "/usr/local/lib/python3.11/dist-packages/joblib/externals/loky/process_executor.py:752: UserWarning: A worker stopped while some jobs were given to the executor. This can be caused by a too short worker timeout or by a memory leak.\n",
            "  warnings.warn(\n"
          ]
        },
        {
          "metadata": {
            "tags": null
          },
          "name": "stdout",
          "output_type": "stream",
          "text": [
            "Best parameters for 5 lags: {'learning_rate': 0.1, 'max_depth': 9, 'n_estimators': 400}\n",
            "Testing with 7 lags...\n",
            "Fitting 5 folds for each of 27 candidates, totalling 135 fits\n"
          ]
        },
        {
          "metadata": {
            "tags": null
          },
          "name": "stderr",
          "output_type": "stream",
          "text": [
            "/usr/local/lib/python3.11/dist-packages/joblib/externals/loky/process_executor.py:752: UserWarning: A worker stopped while some jobs were given to the executor. This can be caused by a too short worker timeout or by a memory leak.\n",
            "  warnings.warn(\n"
          ]
        }
      ],
      "source": [
        "import pandas as pd\n",
        "import numpy as np\n",
        "import xgboost as xgb\n",
        "import matplotlib.pyplot as plt\n",
        "import seaborn as sns\n",
        "from sklearn.model_selection import train_test_split, GridSearchCV\n",
        "from sklearn.metrics import mean_squared_error, mean_absolute_error, mean_absolute_percentage_error\n",
        "\n",
        "# Φόρτωση του τελικού dataset\n",
        "df = pd.read_csv(\"/content/drive/MyDrive/final_dataset.csv\")\n",
        "\n",
        "# Ορισμός των χαρακτηριστικών και του στόχου\n",
        "features = df.columns.difference([\"DL_bitrate\"])\n",
        "\n",
        "def create_lagged_features(df, features, num_lags, lag_interval=100):\n",
        "    df = df.copy()\n",
        "    for feature in features:\n",
        "        for lag in range(lag_interval, lag_interval * num_lags + 1, lag_interval):\n",
        "            df[f\"{feature}_lag_{lag}\"] = df[feature].shift(lag)\n",
        "    return df.dropna()\n",
        "\n",
        "# Ορισμός του εύρους των διαφορετικών αριθμών lags που θα δοκιμαστούν\n",
        "num_lags_list = [3, 5, 7, 10]\n",
        "\n",
        "# Ορισμός του Grid για εύρεση των βέλτιστων υπερπαραμέτρων\n",
        "param_grid = {\n",
        "    \"n_estimators\": [200, 300, 400],\n",
        "    \"max_depth\": [5, 7, 9],\n",
        "    \"learning_rate\": [0.05, 0.1, 0.2],\n",
        "}\n",
        "\n",
        "results_list = []\n",
        "\n",
        "for num_lags in num_lags_list:\n",
        "    print(f\"Testing with {num_lags} lags...\")\n",
        "    df_lagged = create_lagged_features(df, features, num_lags)\n",
        "\n",
        "    # Ορισμός χαρακτηριστικών εισόδου (X) και στόχου (y)\n",
        "    X = df_lagged.drop(columns=[\"DL_bitrate\"])\n",
        "    y = df_lagged[\"DL_bitrate\"]\n",
        "\n",
        "    # Διαχωρισμός σε Train, Validation και Test Sets\n",
        "    X_train, X_temp, y_train, y_temp = train_test_split(X, y, test_size=0.3, random_state=42)\n",
        "    X_val, X_test, y_val, y_test = train_test_split(X_temp, y_temp, test_size=0.5, random_state=42)\n",
        "\n",
        "    # Ορισμός XGBoost Regressor\n",
        "    xgb_regressor = xgb.XGBRegressor(objective=\"reg:squarederror\", random_state=42)\n",
        "\n",
        "    # Χρήση GridSearchCV με 5-Fold Cross Validation\n",
        "    grid_search = GridSearchCV(\n",
        "        estimator=xgb_regressor,\n",
        "        param_grid=param_grid,\n",
        "        cv=5,\n",
        "        scoring=\"neg_root_mean_squared_error\",\n",
        "        n_jobs=-1,\n",
        "        verbose=1\n",
        "    )\n",
        "\n",
        "    grid_search.fit(X_train, y_train)\n",
        "\n",
        "    # Λήψη των καλύτερων υπερπαραμέτρων\n",
        "    best_params = grid_search.best_params_\n",
        "    print(f\"Best parameters for {num_lags} lags: {best_params}\")\n",
        "\n",
        "    # Εκπαίδευση του XGBoost με τις βέλτιστες παραμέτρους\n",
        "    best_xgb = xgb.XGBRegressor(**best_params, objective=\"reg:squarederror\", random_state=42)\n",
        "    best_xgb.fit(X_train, y_train)\n",
        "\n",
        "    # Πρόβλεψη σε Training, Validation και Test sets\n",
        "    y_train_pred = best_xgb.predict(X_train)\n",
        "    y_val_pred = best_xgb.predict(X_val)\n",
        "    y_test_pred = best_xgb.predict(X_test)\n",
        "\n",
        "    # Υπολογισμός των μετρικών σφάλματος για όλα τα sets\n",
        "    results_list.append({\n",
        "        \"num_lags\": num_lags,\n",
        "        \"RMSE_Train\": np.sqrt(mean_squared_error(y_train, y_train_pred)),\n",
        "        \"RMSE_Validation\": np.sqrt(mean_squared_error(y_val, y_val_pred)),\n",
        "        \"RMSE_Test\": np.sqrt(mean_squared_error(y_test, y_test_pred)),\n",
        "        \"MAE_Train\": mean_absolute_error(y_train, y_train_pred),\n",
        "        \"MAE_Validation\": mean_absolute_error(y_val, y_val_pred),\n",
        "        \"MAE_Test\": mean_absolute_error(y_test, y_test_pred),\n",
        "        \"MAPE_Train\": mean_absolute_percentage_error(y_train, y_train_pred),\n",
        "        \"MAPE_Validation\": mean_absolute_percentage_error(y_val, y_val_pred),\n",
        "        \"MAPE_Test\": mean_absolute_percentage_error(y_test, y_test_pred),\n",
        "        \"Best_Params\": best_params\n",
        "    })\n",
        "\n",
        "# Μετατροπή των αποτελεσμάτων σε DataFrame και εμφάνιση\n",
        "results_df = pd.DataFrame(results_list)\n",
        "import ace_tools as tools\n",
        "\n",
        "tools.display_dataframe_to_user(name=\"Lag Analysis Results\", dataframe=results_df)\n",
        "\n",
        "# Εύρεση του καλύτερου συνδυασμού lags και υπερπαραμέτρων με βάση το χαμηλότερο RMSE Validation\n",
        "best_result = results_df.loc[results_df[\"RMSE_Validation\"].idxmin()]\n",
        "print(\"Best overall combination:\")\n",
        "print(best_result)\n"
      ]
    },
    {
      "cell_type": "code",
      "source": [
        "from google.colab import drive\n",
        "drive.mount('/content/drive')"
      ],
      "metadata": {
        "colab": {
          "base_uri": "https://localhost:8080/"
        },
        "id": "-RpVlpAQwEP_",
        "outputId": "cd7f4f18-67a4-495f-dbb3-65a2a0ec9fc1"
      },
      "execution_count": null,
      "outputs": [
        {
          "output_type": "stream",
          "name": "stdout",
          "text": [
            "Mounted at /content/drive\n"
          ]
        }
      ]
    },
    {
      "cell_type": "code",
      "source": [
        "# Δημιουργία του plot\n",
        "fig, ax = plt.subplots(1, 3, figsize=(18, 5))\n",
        "\n",
        "# Χ άξονας (Train, Validation, Test)\n",
        "sets = metrics_df[\"Set\"]\n",
        "\n",
        "# RMSE - Γραμμικό διάγραμμα\n",
        "ax[0].plot(sets, metrics_df[\"RMSE\"], marker=\"o\", linestyle=\"-\", color=\"blue\", label=\"RMSE\")\n",
        "ax[0].set_title(\"Root Mean Squared Error (RMSE)\")\n",
        "ax[0].set_ylabel(\"RMSE\")\n",
        "ax[0].set_xlabel(\"Set\")\n",
        "ax[0].grid(True)\n",
        "\n",
        "# MAE - Γραμμικό διάγραμμα\n",
        "ax[1].plot(sets, metrics_df[\"MAE\"], marker=\"s\", linestyle=\"-\", color=\"green\", label=\"MAE\")\n",
        "ax[1].set_title(\"Mean Absolute Error (MAE)\")\n",
        "ax[1].set_ylabel(\"MAE\")\n",
        "ax[1].set_xlabel(\"Set\")\n",
        "ax[1].grid(True)\n",
        "\n",
        "# MAPE - Γραμμικό διάγραμμα\n",
        "ax[2].plot(sets, metrics_df[\"MAPE\"], marker=\"^\", linestyle=\"-\", color=\"red\", label=\"MAPE\")\n",
        "ax[2].set_title(\"Mean Absolute Percentage Error (MAPE)\")\n",
        "ax[2].set_ylabel(\"MAPE\")\n",
        "ax[2].set_xlabel(\"Set\")\n",
        "ax[2].grid(True)\n",
        "\n",
        "# Προσαρμογή της διάταξης\n",
        "plt.tight_layout()\n",
        "plt.show()"
      ],
      "metadata": {
        "id": "WnOAhdcqnV1H"
      },
      "execution_count": null,
      "outputs": []
    },
    {
      "cell_type": "code",
      "source": [
        "from sklearn.model_selection import learning_curve\n",
        "\n",
        "train_sizes, train_scores, val_scores = learning_curve(\n",
        "    best_xgb, X_train, y_train, cv=5, scoring=\"neg_root_mean_squared_error\", train_sizes=np.linspace(0.1, 1.0, 10)\n",
        ")\n",
        "\n",
        "train_scores_mean = -train_scores.mean(axis=1)\n",
        "val_scores_mean = -val_scores.mean(axis=1)\n",
        "\n",
        "plt.figure(figsize=(10, 6))\n",
        "plt.plot(train_sizes, train_scores_mean, \"o-\", color=\"blue\", label=\"Training RMSE\")\n",
        "plt.plot(train_sizes, val_scores_mean, \"o-\", color=\"red\", label=\"Validation RMSE\")\n",
        "plt.xlabel(\"Training Set Size\")\n",
        "plt.ylabel(\"RMSE\")\n",
        "plt.title(\"Learning Curve\")\n",
        "plt.legend()\n",
        "plt.show()"
      ],
      "metadata": {
        "colab": {
          "base_uri": "https://localhost:8080/",
          "height": 564
        },
        "id": "7h7pemwBkuww",
        "outputId": "61961243-9671-4028-b8b2-6f312a754384"
      },
      "execution_count": null,
      "outputs": [
        {
          "output_type": "display_data",
          "data": {
            "text/plain": [
              "<Figure size 1000x600 with 1 Axes>"
            ],
            "image/png": "[encoded data removed]"
          },
          "metadata": {}
        }
      ]
    }
  ]
}